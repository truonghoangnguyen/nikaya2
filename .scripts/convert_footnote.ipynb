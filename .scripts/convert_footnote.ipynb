{
 "cells": [
  {
   "cell_type": "code",
   "execution_count": null,
   "metadata": {},
   "outputs": [],
   "source": [
    "import re\n",
    "\n",
    "def convert_markdown(input_file, output_file):\n",
    "    \"\"\"Converts footnote references in a markdown file to a specific format.\n",
    "\n",
    "    Args:\n",
    "        input_file: Path to the input markdown file.\n",
    "        output_file: Path to the output markdown file.\n",
    "    \"\"\"\n",
    "\n",
    "    try:\n",
    "        with open(input_file, 'r', encoding='utf-8') as f_in:\n",
    "            text = f_in.read()\n",
    "    except FileNotFoundError:\n",
    "        print(f\"Error: Input file '{input_file}' not found.\")\n",
    "        return\n",
    "    except Exception as e:\n",
    "        print(f\"An error occurred while reading the input file: {e}\")\n",
    "        return\n",
    "\n",
    "    def replace_footnote_header(match):\n",
    "        footnote_ref = match.group(1)\n",
    "        footnote_content = match.group(2)\n",
    "        return f\"###### {footnote_ref}\\n{footnote_content.strip()}\"\n",
    "\n",
    "    # Corrected regex:  Use a positive lookahead assertion\n",
    "    modified_text = re.sub(r\"(\\[\\^\\d+\\]):\\s*(.+?)(?=\\n\\n|\\Z|\\[\\^\\d+\\]:)\", replace_footnote_header, text, flags=re.DOTALL)\n",
    "\n",
    "    try:\n",
    "        with open(output_file, 'w', encoding='utf-8') as f_out:\n",
    "            f_out.write(modified_text)\n",
    "    except Exception as e:\n",
    "        print(f\"An error occurred while writing to the output file: {e}\")\n",
    "        return\n",
    "\n",
    "    print(f\"Successfully converted '{input_file}' to '{output_file}'.\")\n",
    "\n",
    "convert_markdown('../kinhtrungbo/nanamoli-bodhi-en/outro/notes/001.md', '../kinhtrungbo/nanamoli-bodhi-en/outro/notes/001x.md')"
   ]
  },
  {
   "cell_type": "code",
   "execution_count": null,
   "metadata": {},
   "outputs": [],
   "source": [
    "import os\n",
    "file_list = [os.path.join('../kinhtrungbo/nanamoli-bodhi-en/outro/notes', f) for f in os.listdir('../kinhtrungbo/nanamoli-bodhi-en/outro/notes') if f.endswith('.md')]\n",
    "\n",
    "for f in file_list:\n",
    "    convert_markdown(f, f)\n",
    "\n"
   ]
  },
  {
   "cell_type": "code",
   "execution_count": null,
   "metadata": {},
   "outputs": [],
   "source": []
  },
  {
   "cell_type": "markdown",
   "metadata": {},
   "source": [
    "replace foot\n",
    "1. từ filepath+filename\n",
    "2. từ id \n",
    "\n",
    "1. /kinhtrungbo/nanamoli-bodhi-en/001-abc.md\n",
    "2. [^31]\n",
    "ket qua\n",
    "[^31](/kinhtrungbo/nanamoli-bodhi-en/outro/notes/001x#_31){.note}  [ꜛ](/kinhtrungbo/nanamoli-bodhi-en/outro/notes/001x#_31){target=\"_blank\"}\n",
    "\n",
    "-----\n",
    "\\[\\^(\\d+)\\]\n",
    "[^$1](/kinhtrungbo/nanamoli-bodhi-vi/outro/notes/001#_$1){.note}  [ꜛ](/kinhtrungbo/nanamoli-bodhi-vi/outro/notes/001#_$1){target=\"_blank\"}"
   ]
  }
 ],
 "metadata": {
  "kernelspec": {
   "display_name": "myenv",
   "language": "python",
   "name": "python3"
  },
  "language_info": {
   "codemirror_mode": {
    "name": "ipython",
    "version": 3
   },
   "file_extension": ".py",
   "mimetype": "text/x-python",
   "name": "python",
   "nbconvert_exporter": "python",
   "pygments_lexer": "ipython3",
   "version": "3.12.8"
  }
 },
 "nbformat": 4,
 "nbformat_minor": 2
}

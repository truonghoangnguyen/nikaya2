{
 "cells": [
  {
   "cell_type": "code",
   "execution_count": 1,
   "metadata": {},
   "outputs": [
    {
     "name": "stdout",
     "output_type": "stream",
     "text": [
      "Removed in: ../.docsource/kinh-tang-chi/sujato/2/04-013-the-chapter-on-perils.md\n",
      "Removed in: ../.docsource/kinh-tang-chi/sujato/2/04-023-the-chapter-on-bad-conduct.md\n",
      "Removed in: ../.docsource/kinh-tang-chi/sujato/2/04-021-the-chapter-on-a-good-person.md\n",
      "Removed in: ../.docsource/kinh-tang-chi/sujato/2/04-018-the-chapter-on-intention.md\n",
      "Removed in: ../.docsource/kinh-tang-chi/sujato/2/04-016-the-chapter-on-faculties.md\n",
      "Removed in: ../.docsource/kinh-tang-chi/sujato/2/04-002-the-chapter-on-walking.md\n",
      "Removed in: ../.docsource/kinh-tang-chi/sujato/2/04-011-the-chapter-on-gods-of-the-clouds.md\n",
      "Removed in: ../.docsource/kinh-tang-chi/sujato/2/04-017-the-chapter-on-practice.md\n",
      "Removed in: ../.docsource/kinh-tang-chi/sujato/2/04-020-the-great-chapter.md\n",
      "Removed in: ../.docsource/kinh-tang-chi/sujato/2/04-008-the-chapter-on-guaranteed.md\n",
      "Removed in: ../.docsource/kinh-tang-chi/sujato/2/04-012-the-chapter-with-kesi.md\n",
      "Removed in: ../.docsource/kinh-tang-chi/sujato/2/04-001-the-chapter-at-wares-village.md\n",
      "Removed in: ../.docsource/kinh-tang-chi/sujato/2/04-005-the-chapter-with-rohitassa.md\n",
      "Removed in: ../.docsource/kinh-tang-chi/sujato/2/04-026-the-chapter-on-direct-knowledges.md\n",
      "Removed in: ../.docsource/kinh-tang-chi/sujato/2/04-025-the-chapter-on-perils-of-offenses.md\n",
      "Removed in: ../.docsource/kinh-tang-chi/sujato/2/04-007-the-chapter-on-deeds-of-substance.md\n",
      "Removed in: ../.docsource/kinh-tang-chi/sujato/2/04-004-the-chapter-on-situations.md\n",
      "Removed in: ../.docsource/kinh-tang-chi/sujato/2/04-006-the-chapter-on-overflowing-merit.md\n",
      "Removed in: ../.docsource/kinh-tang-chi/sujato/2/04-027-the-chapter-on-ways-of-performing-deeds.md\n",
      "Removed in: ../.docsource/kinh-tang-chi/sujato/2/04-015-the-chapter-on-brightness.md\n",
      "Removed in: ../.docsource/kinh-tang-chi/sujato/2/04-009-the-chapter-on-confirmed.md\n",
      "Removed in: ../.docsource/kinh-tang-chi/sujato/2/04-014-the-chapter-on-persons.md\n",
      "Removed in: ../.docsource/kinh-tang-chi/sujato/2/04-019-the-chapter-on-brahmins.md\n",
      "Removed in: ../.docsource/kinh-tang-chi/sujato/2/04-024-the-chapter-on-deeds.md\n",
      "Removed in: ../.docsource/kinh-tang-chi/sujato/2/04-003-the-chapter-at-uruvela.md\n",
      "Removed in: ../.docsource/kinh-tang-chi/sujato/2/04-010-the-chapter-on-demons.md\n",
      "Removed in: ../.docsource/kinh-tang-chi/sujato/2/04-022-the-chapter-on-assemblies.md\n"
     ]
    }
   ],
   "source": [
    "import os\n",
    "import sys\n",
    "import re\n",
    "\n",
    "def remove_first_pg_tag(folder):\n",
    "    pattern = re.compile(r'<!--pg-->')\n",
    "\n",
    "    for root, dirs, files in os.walk(folder):\n",
    "        for file in files:\n",
    "            file_path = os.path.join(root, file)\n",
    "\n",
    "            # Chỉ làm với các file text, bạn có thể thêm điều kiện lọc file type ở đây nếu cần\n",
    "            try:\n",
    "                with open(file_path, 'r', encoding='utf-8') as f:\n",
    "                    content = f.read()\n",
    "\n",
    "                # Nếu có match thì xóa match đầu tiên\n",
    "                if '<!--pg-->' in content:\n",
    "                    new_content = pattern.sub('', content, count=1)\n",
    "\n",
    "                    with open(file_path, 'w', encoding='utf-8') as f:\n",
    "                        f.write(new_content)\n",
    "\n",
    "                    print(f'Removed in: {file_path}')\n",
    "            except Exception as e:\n",
    "                print(f'Error processing {file_path}: {e}')\n",
    "remove_first_pg_tag ('../.docsource/kinh-tang-chi/sujato/2')"
   ]
  }
 ],
 "metadata": {
  "kernelspec": {
   "display_name": "myenv",
   "language": "python",
   "name": "python3"
  },
  "language_info": {
   "codemirror_mode": {
    "name": "ipython",
    "version": 3
   },
   "file_extension": ".py",
   "mimetype": "text/x-python",
   "name": "python",
   "nbconvert_exporter": "python",
   "pygments_lexer": "ipython3",
   "version": "3.12.8"
  }
 },
 "nbformat": 4,
 "nbformat_minor": 2
}
